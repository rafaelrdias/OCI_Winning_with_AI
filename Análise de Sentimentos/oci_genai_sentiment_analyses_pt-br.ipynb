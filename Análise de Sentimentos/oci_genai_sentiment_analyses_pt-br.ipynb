{
 "cells": [
  {
   "cell_type": "markdown",
   "id": "3802e8c4",
   "metadata": {},
   "source": [
    "## Setup\n",
    "\n",
    "Abaixo é necessário instalar algumas bibliotecas, incluindo LlamaIndex🦙, para conseguir executar este laboratório."
   ]
  },
  {
   "cell_type": "code",
   "execution_count": null,
   "id": "bb0dd8c9",
   "metadata": {
    "collapsed": true,
    "jupyter": {
     "outputs_hidden": true
    },
    "tags": []
   },
   "outputs": [],
   "source": [
    "%pip install llama-index-llms-oci-genai"
   ]
  },
  {
   "cell_type": "code",
   "execution_count": null,
   "id": "544d49f9",
   "metadata": {
    "collapsed": true,
    "jupyter": {
     "outputs_hidden": true
    },
    "tags": []
   },
   "outputs": [],
   "source": [
    "!pip install llama-index"
   ]
  },
  {
   "cell_type": "markdown",
   "id": "c2921307",
   "metadata": {},
   "source": [
    "You will also need to install the OCI sdk"
   ]
  },
  {
   "cell_type": "code",
   "execution_count": null,
   "id": "378d5179",
   "metadata": {
    "collapsed": true,
    "jupyter": {
     "outputs_hidden": true
    },
    "tags": []
   },
   "outputs": [],
   "source": [
    "!pip install -U oci"
   ]
  },
  {
   "cell_type": "code",
   "execution_count": null,
   "id": "47b4edba-3089-432b-aa73-f13700748bb0",
   "metadata": {
    "collapsed": true,
    "jupyter": {
     "outputs_hidden": true
    },
    "tags": []
   },
   "outputs": [],
   "source": [
    "!pip install openpyxl"
   ]
  },
  {
   "cell_type": "markdown",
   "id": "03d4024a",
   "metadata": {},
   "source": [
    "## Iniciando as bibliotecas e classes\n",
    "\n",
    "Aqui é apenas necessário executar sem efetuar nenhuma alteração. As bibliotecas e classes serão carregadas para possibilitar a conexão com o OCI Generative AI para utilizar o LLM Cohere Command-R+.\n",
    "\n",
    "Os comandos abaixo das importações são as configurações necessárias para utilizar o LLM Cohere Command-R+: "
   ]
  },
  {
   "cell_type": "code",
   "execution_count": 6,
   "id": "60be18ae-c957-4ac2-a58a-0652e18ee6d6",
   "metadata": {
    "tags": []
   },
   "outputs": [],
   "source": [
    "import os\n",
    "from llama_index.llms.oci_genai import OCIGenAI\n",
    "from llama_index.core.llms import ChatMessage\n",
    "import pandas as pd\n",
    "\n",
    "\n",
    "compartment_id = os.environ['NB_SESSION_COMPARTMENT_OCID'] \n",
    "\n",
    "command_r_plus = \"ocid1.generativeaimodel.oc1.us-chicago-1.amaaaaaask7dceya7ozidbukxwtun4ocm4ngco2jukoaht5mygpgr6gq2lgq\"\n",
    "\n",
    "llm = OCIGenAI(\n",
    "    model=command_r_plus,\n",
    "    service_endpoint=\"https://inference.generativeai.us-chicago-1.oci.oraclecloud.com\",\n",
    "    provider=\"cohere\",  # e.g., \"cohere\" or \"meta\"\n",
    "    compartment_id=compartment_id,\n",
    "    context_size=\"16000\"\n",
    ")"
   ]
  },
  {
   "cell_type": "markdown",
   "id": "40c58137-d0ee-4191-bcf4-1573389ecbe0",
   "metadata": {},
   "source": [
    "### Importando o Arquivo Com Tweets"
   ]
  },
  {
   "cell_type": "code",
   "execution_count": 7,
   "id": "fcaab174-0ee1-478a-b564-bcfc30603a93",
   "metadata": {
    "tags": []
   },
   "outputs": [],
   "source": [
    "premier_tweets = pd.read_excel(\"~/OCI_Winning_with_AI/Análise de Sentimentos/tweets_premier_league_footballersv3_br.xlsx\", sheet_name='tweet_premier_league')"
   ]
  },
  {
   "cell_type": "code",
   "execution_count": null,
   "id": "3801edb6-1e66-481d-bfc0-92b608633ee5",
   "metadata": {
    "tags": []
   },
   "outputs": [],
   "source": [
    "premier_tweets"
   ]
  },
  {
   "cell_type": "code",
   "execution_count": 9,
   "id": "39589c59-b037-4ba2-9abd-9479294a0005",
   "metadata": {
    "tags": []
   },
   "outputs": [],
   "source": [
    "tweets=list(premier_tweets[\"texto\"])"
   ]
  },
  {
   "cell_type": "code",
   "execution_count": null,
   "id": "a45138cb-94ad-4cc8-b394-a011d35b32bb",
   "metadata": {
    "collapsed": true,
    "jupyter": {
     "outputs_hidden": true
    },
    "tags": []
   },
   "outputs": [],
   "source": [
    "tweets"
   ]
  },
  {
   "cell_type": "markdown",
   "id": "7e9a7388-371a-4afa-90a3-9376255fca51",
   "metadata": {},
   "source": [
    "## Análise de Sentimento com OCI Generative AI\n",
    "\n",
    "Abaixo segue um exemplo de tweet para teste e entendimento de como é feito o prompt, a chamada do LLM e a resposta do mesmo:"
   ]
  },
  {
   "cell_type": "code",
   "execution_count": 47,
   "id": "1fef2913-2354-4d88-9483-e61cdbbc3adf",
   "metadata": {
    "tags": []
   },
   "outputs": [],
   "source": [
    "frase = '''\n",
    "Não é de admirar que eles sejam amaldiçoados\n",
    "'''"
   ]
  },
  {
   "cell_type": "code",
   "execution_count": 48,
   "id": "f519abbc-647e-4f60-9608-8b97cac865c3",
   "metadata": {
    "tags": []
   },
   "outputs": [],
   "source": [
    "preamble = 'Você é um agente especialista em analizar o sentimento das frases escritas abaixo. Sua tarefa é responder sobre estas frases escritas por jogadores de futebol apenas e somente uma entre as seguintes opções: Positivo, Negativo ou Neutro'\n",
    "    \n",
    "prompt = f'''\n",
    "Frase: {frase};\n",
    "\n",
    "Por favor responda com muita atenção, pois isto é muito importante para minha carreira!\n",
    "'''\n",
    "\n",
    "messages = [\n",
    "        ChatMessage(\n",
    "            role=\"system\", content=preamble),\n",
    "        ChatMessage(\n",
    "            role=\"user\", content=prompt),\n",
    "        ]"
   ]
  },
  {
   "cell_type": "code",
   "execution_count": null,
   "id": "4472fe54-b6f3-4b24-a2d4-985298d7531b",
   "metadata": {
    "tags": []
   },
   "outputs": [],
   "source": [
    "resp = llm.chat(messages)\n",
    "\n",
    "print(resp)"
   ]
  },
  {
   "cell_type": "code",
   "execution_count": null,
   "id": "30c5e447-7168-4645-ac82-ef170751bde1",
   "metadata": {
    "tags": []
   },
   "outputs": [],
   "source": [
    "resp.message.content"
   ]
  },
  {
   "cell_type": "markdown",
   "id": "62351fef-9c28-429e-a7a1-9ec7a26ae5eb",
   "metadata": {},
   "source": [
    "## Laço para Análise de Todos os tweets\n",
    "\n",
    "Abaixo está o código do laço que fará a análise de sentimentos de todos os tweets:"
   ]
  },
  {
   "cell_type": "code",
   "execution_count": null,
   "id": "fd733d24-680a-40fa-a8bf-117aaefbc2b8",
   "metadata": {
    "collapsed": true,
    "jupyter": {
     "outputs_hidden": true
    },
    "tags": []
   },
   "outputs": [],
   "source": [
    "genAI_emotion=[]\n",
    "\n",
    "for frase in tweets:\n",
    "    tweet=frase\n",
    "    preamble='''Você é um agente especialista em analizar o sentimento das frases escritas abaixo. Sua tarefa é responder sobre estas frases escritas por jogadores de futebol apenas e somente uma entre as seguintes opções: \"Positivo\", \"Negativo\" ou \"Neutro\", por favor não inserir nenhum caracter adicional como \".\" por exemplo'''\n",
    "    prompt = f'''\n",
    "    Tweet: {tweet};\n",
    "\n",
    "    Por favor responda com muita atenção, pois isto é muito importante para minha carreira!\n",
    "    '''\n",
    "    messages = [\n",
    "        ChatMessage(\n",
    "            role=\"system\", content=preamble),\n",
    "        ChatMessage(\n",
    "            role=\"user\", content=prompt),\n",
    "        ]\n",
    "    resp = llm.chat(messages)\n",
    "    genAI_emotion.append([frase, resp.message.content])\n",
    "\n",
    "genAI_emotion"
   ]
  },
  {
   "cell_type": "markdown",
   "id": "6e4deef6-fe58-4aca-a792-1c7e25779b6d",
   "metadata": {},
   "source": [
    "## Organizando as Análises\n",
    "\n",
    "Nas células abaixo são ajustadas os dados em dataframe e acrescentado no dataframe importado inicialmente do arquivo xlsx: "
   ]
  },
  {
   "cell_type": "code",
   "execution_count": 38,
   "id": "70326166-3081-403c-964b-398532bdc04e",
   "metadata": {
    "tags": []
   },
   "outputs": [],
   "source": [
    "df_genAI_emotion=pd.DataFrame(genAI_emotion)"
   ]
  },
  {
   "cell_type": "code",
   "execution_count": null,
   "id": "e3ca22a9-ac41-409b-b2ce-791b984f87ba",
   "metadata": {
    "tags": []
   },
   "outputs": [],
   "source": [
    "df_genAI_emotion.rename(columns={0: \"tweet\", 1: \"genAI_emotion\"}, inplace=True)\n",
    "df_genAI_emotion"
   ]
  },
  {
   "cell_type": "code",
   "execution_count": null,
   "id": "61c5b9b8-2705-4382-830e-c66aab2f2bf4",
   "metadata": {
    "tags": []
   },
   "outputs": [],
   "source": [
    "df_genAI_emotion[\"genAI_emotion\"].value_counts()"
   ]
  },
  {
   "cell_type": "code",
   "execution_count": 42,
   "id": "3ea18ae2-63f9-41fd-a263-7ecad50c444e",
   "metadata": {
    "tags": []
   },
   "outputs": [],
   "source": [
    "premier_tweets = pd.concat([premier_tweets.reset_index(drop=True),df_genAI_emotion[\"genAI_emotion\"]],axis=1)"
   ]
  },
  {
   "cell_type": "code",
   "execution_count": null,
   "id": "c2c6f27c-9655-4988-a0ae-2cce5f21a32e",
   "metadata": {
    "tags": []
   },
   "outputs": [],
   "source": [
    "premier_tweets"
   ]
  },
  {
   "cell_type": "markdown",
   "id": "6bf34e04-517d-4e72-9900-e0b86e80ee6b",
   "metadata": {},
   "source": [
    "## Dados Finais\n",
    "\n",
    "Por último, os dados são gravados num arquivo csv:"
   ]
  },
  {
   "cell_type": "code",
   "execution_count": 44,
   "id": "54fb3d59-d22b-4bda-a987-aee7ccefbbd8",
   "metadata": {
    "tags": []
   },
   "outputs": [],
   "source": [
    "premier_tweets.to_csv('~/Winning_AI/tweets_premier_league_sentiment_analyses.csv',index=False)"
   ]
  }
 ],
 "metadata": {
  "kernelspec": {
   "display_name": "Python 3 (ipykernel)",
   "language": "python",
   "name": "python3"
  },
  "language_info": {
   "codemirror_mode": {
    "name": "ipython",
    "version": 3
   },
   "file_extension": ".py",
   "mimetype": "text/x-python",
   "name": "python",
   "nbconvert_exporter": "python",
   "pygments_lexer": "ipython3",
   "version": "3.8.19"
  }
 },
 "nbformat": 4,
 "nbformat_minor": 5
}
